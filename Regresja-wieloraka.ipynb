{
 "cells": [
  {
   "cell_type": "code",
   "execution_count": 1,
   "id": "0f5980e3",
   "metadata": {},
   "outputs": [
    {
     "data": {
      "text/html": [
       "<div>\n",
       "<style scoped>\n",
       "    .dataframe tbody tr th:only-of-type {\n",
       "        vertical-align: middle;\n",
       "    }\n",
       "\n",
       "    .dataframe tbody tr th {\n",
       "        vertical-align: top;\n",
       "    }\n",
       "\n",
       "    .dataframe thead th {\n",
       "        text-align: right;\n",
       "    }\n",
       "</style>\n",
       "<table border=\"1\" class=\"dataframe\">\n",
       "  <thead>\n",
       "    <tr style=\"text-align: right;\">\n",
       "      <th></th>\n",
       "      <th>SAT Math</th>\n",
       "      <th>SAT Verbal</th>\n",
       "      <th>GPA</th>\n",
       "      <th>Credits earned</th>\n",
       "      <th>Family income</th>\n",
       "      <th>Days drinking (last 30 days)</th>\n",
       "      <th>Income</th>\n",
       "    </tr>\n",
       "  </thead>\n",
       "  <tbody>\n",
       "    <tr>\n",
       "      <th>0</th>\n",
       "      <td>4</td>\n",
       "      <td>4</td>\n",
       "      <td>252</td>\n",
       "      <td>132</td>\n",
       "      <td>135100</td>\n",
       "      <td>2</td>\n",
       "      <td>45000</td>\n",
       "    </tr>\n",
       "    <tr>\n",
       "      <th>1</th>\n",
       "      <td>3</td>\n",
       "      <td>3</td>\n",
       "      <td>344</td>\n",
       "      <td>135</td>\n",
       "      <td>4450</td>\n",
       "      <td>3</td>\n",
       "      <td>4200</td>\n",
       "    </tr>\n",
       "    <tr>\n",
       "      <th>2</th>\n",
       "      <td>3</td>\n",
       "      <td>3</td>\n",
       "      <td>231</td>\n",
       "      <td>120</td>\n",
       "      <td>75000</td>\n",
       "      <td>7</td>\n",
       "      <td>25000</td>\n",
       "    </tr>\n",
       "    <tr>\n",
       "      <th>3</th>\n",
       "      <td>4</td>\n",
       "      <td>5</td>\n",
       "      <td>215</td>\n",
       "      <td>125</td>\n",
       "      <td>63250</td>\n",
       "      <td>8</td>\n",
       "      <td>38000</td>\n",
       "    </tr>\n",
       "    <tr>\n",
       "      <th>4</th>\n",
       "      <td>2</td>\n",
       "      <td>2</td>\n",
       "      <td>111</td>\n",
       "      <td>31</td>\n",
       "      <td>55000</td>\n",
       "      <td>4</td>\n",
       "      <td>37500</td>\n",
       "    </tr>\n",
       "    <tr>\n",
       "      <th>...</th>\n",
       "      <td>...</td>\n",
       "      <td>...</td>\n",
       "      <td>...</td>\n",
       "      <td>...</td>\n",
       "      <td>...</td>\n",
       "      <td>...</td>\n",
       "      <td>...</td>\n",
       "    </tr>\n",
       "    <tr>\n",
       "      <th>723</th>\n",
       "      <td>4</td>\n",
       "      <td>4</td>\n",
       "      <td>277</td>\n",
       "      <td>121</td>\n",
       "      <td>46650</td>\n",
       "      <td>1</td>\n",
       "      <td>39000</td>\n",
       "    </tr>\n",
       "    <tr>\n",
       "      <th>724</th>\n",
       "      <td>4</td>\n",
       "      <td>4</td>\n",
       "      <td>378</td>\n",
       "      <td>128</td>\n",
       "      <td>60200</td>\n",
       "      <td>3</td>\n",
       "      <td>42000</td>\n",
       "    </tr>\n",
       "    <tr>\n",
       "      <th>725</th>\n",
       "      <td>3</td>\n",
       "      <td>2</td>\n",
       "      <td>198</td>\n",
       "      <td>89</td>\n",
       "      <td>120000</td>\n",
       "      <td>15</td>\n",
       "      <td>45000</td>\n",
       "    </tr>\n",
       "    <tr>\n",
       "      <th>726</th>\n",
       "      <td>4</td>\n",
       "      <td>4</td>\n",
       "      <td>221</td>\n",
       "      <td>139</td>\n",
       "      <td>158000</td>\n",
       "      <td>2</td>\n",
       "      <td>38000</td>\n",
       "    </tr>\n",
       "    <tr>\n",
       "      <th>727</th>\n",
       "      <td>4</td>\n",
       "      <td>6</td>\n",
       "      <td>351</td>\n",
       "      <td>113</td>\n",
       "      <td>126500</td>\n",
       "      <td>3</td>\n",
       "      <td>32000</td>\n",
       "    </tr>\n",
       "  </tbody>\n",
       "</table>\n",
       "<p>728 rows × 7 columns</p>\n",
       "</div>"
      ],
      "text/plain": [
       "     SAT Math  SAT Verbal  GPA  Credits earned  Family income  \\\n",
       "0           4           4  252             132         135100   \n",
       "1           3           3  344             135           4450   \n",
       "2           3           3  231             120          75000   \n",
       "3           4           5  215             125          63250   \n",
       "4           2           2  111              31          55000   \n",
       "..        ...         ...  ...             ...            ...   \n",
       "723         4           4  277             121          46650   \n",
       "724         4           4  378             128          60200   \n",
       "725         3           2  198              89         120000   \n",
       "726         4           4  221             139         158000   \n",
       "727         4           6  351             113         126500   \n",
       "\n",
       "     Days drinking (last 30 days)  Income  \n",
       "0                               2   45000  \n",
       "1                               3    4200  \n",
       "2                               7   25000  \n",
       "3                               8   38000  \n",
       "4                               4   37500  \n",
       "..                            ...     ...  \n",
       "723                             1   39000  \n",
       "724                             3   42000  \n",
       "725                            15   45000  \n",
       "726                             2   38000  \n",
       "727                             3   32000  \n",
       "\n",
       "[728 rows x 7 columns]"
      ]
     },
     "execution_count": 1,
     "metadata": {},
     "output_type": "execute_result"
    }
   ],
   "source": [
    "import pandas as pd\n",
    "import matplotlib.pyplot as plt\n",
    "from sklearn.model_selection import train_test_split\n",
    "from sklearn.linear_model import LinearRegression\n",
    "from sklearn.preprocessing import StandardScaler\n",
    "from sklearn.feature_selection import f_regression\n",
    "from sklearn.metrics import mean_squared_error, r2_score\n",
    "\n",
    "data = pd.read_csv('example_data.csv')\n",
    "data"
   ]
  },
  {
   "cell_type": "code",
   "execution_count": 2,
   "id": "23aacf96",
   "metadata": {},
   "outputs": [
    {
     "name": "stdout",
     "output_type": "stream",
     "text": [
      "Współczynniki regresji:\n",
      "SAT Math: 2912.601911571772\n",
      "SAT Verbal: -1441.454791790621\n",
      "GPA: 487.1223783682839\n",
      "Credits earned: 2018.46561257583\n",
      "Family income: 6914.907605542716\n",
      "Days drinking (last 30 days): 525.6792111083766\n",
      "Przecięcie (intercept): 28164.43589558724\n"
     ]
    }
   ],
   "source": [
    "# Zmienna zależna (y) to 'Income', a zmienne niezależne (X) to pozostałe kolumny\n",
    "X = data.drop('Income', axis=1)\n",
    "y = data['Income']\n",
    "\n",
    "# Skalowanie danych, aby wpływały na model w sposób zrównoważony\n",
    "scaler = StandardScaler()\n",
    "X_scaled = scaler.fit_transform(X)\n",
    "\n",
    "# Podział danych na zbiór uczący i testowy\n",
    "X_train, X_test, y_train, y_test = train_test_split(X_scaled, y, test_size=0.2, random_state=42)\n",
    "\n",
    "# Inicjalizacja modelu regresji liniowej\n",
    "model = LinearRegression()\n",
    "\n",
    "# Trenowanie modelu na zbiorze uczącym\n",
    "model.fit(X_train, y_train)\n",
    "\n",
    "# Analiza współczynników\n",
    "coefficients = model.coef_\n",
    "intercept = model.intercept_\n",
    "print(\"Współczynniki regresji:\")\n",
    "for i, col in enumerate(X.columns):\n",
    "    print(f\"{col}: {coefficients[i]}\")\n",
    "print(f'Przecięcie (intercept): {intercept}')"
   ]
  },
  {
   "cell_type": "code",
   "execution_count": 3,
   "id": "cd38834d",
   "metadata": {},
   "outputs": [
    {
     "data": {
      "image/png": "[encoded data removed]",
      "text/plain": [
       "<Figure size 640x480 with 1 Axes>"
      ]
     },
     "metadata": {},
     "output_type": "display_data"
    }
   ],
   "source": [
    "# Przewidywanie na zbiorze testowym\n",
    "y_pred = model.predict(X_test)\n",
    "\n",
    "# Wykres danych rzeczywistych vs przewidywanych\n",
    "plt.scatter(y_test, y_pred, color='blue')\n",
    "plt.xlabel('Dane rzeczywiste')\n",
    "plt.ylabel('Dane przewidywane')\n",
    "plt.title('Regresja liniowa – wyniki')\n",
    "plt.show()"
   ]
  },
  {
   "cell_type": "code",
   "execution_count": 4,
   "id": "3ccfe3b0",
   "metadata": {},
   "outputs": [
    {
     "name": "stdout",
     "output_type": "stream",
     "text": [
      "Średni błąd kwadratowy (MSE): 335868392.77233595\n",
      "R^2 (współczynnik determinacji): 0.18418994299889058\n"
     ]
    }
   ],
   "source": [
    "# Analiza jakości modelu\n",
    "mse = mean_squared_error(y_test, y_pred)\n",
    "r2 = r2_score(y_test, y_pred)\n",
    "print(f'Średni błąd kwadratowy (MSE): {mse}')\n",
    "print(f'R^2 (współczynnik determinacji): {r2}')"
   ]
  },
  {
   "cell_type": "code",
   "execution_count": 5,
   "id": "d89e04bf",
   "metadata": {},
   "outputs": [
    {
     "name": "stdout",
     "output_type": "stream",
     "text": [
      "F-statistic: 1.346332817127145\n",
      "P-value: 0.2478403306540794\n",
      "\n"
     ]
    }
   ],
   "source": [
    "# Test F na istotność modelu ogółem\n",
    "f_statistic_model, p_value_model = f_regression(X_test, y_test)\n",
    "print(f\"F-statistic: {f_statistic_model[0]}\")\n",
    "print(f\"P-value: {p_value_model[0]}\\n\")"
   ]
  },
  {
   "cell_type": "code",
   "execution_count": 6,
   "id": "0defe543",
   "metadata": {},
   "outputs": [
    {
     "name": "stdout",
     "output_type": "stream",
     "text": [
      "SAT Math:\n",
      "  Statystyka F: 1.346332817127145\n",
      "  Wartość p: 0.2478403306540794\n",
      "\n",
      "SAT Verbal:\n",
      "  Statystyka F: 1.743585657699364\n",
      "  Wartość p: 0.18878001572493602\n",
      "\n",
      "GPA:\n",
      "  Statystyka F: 0.16889535346105244\n",
      "  Wartość p: 0.6817063424495307\n",
      "\n",
      "Credits earned:\n",
      "  Statystyka F: 1.8666109233842\n",
      "  Wartość p: 0.1739934828157546\n",
      "\n",
      "Family income:\n",
      "  Statystyka F: 27.72084922430947\n",
      "  Wartość p: 4.995368935248421e-07\n",
      "\n",
      "Days drinking (last 30 days):\n",
      "  Statystyka F: 0.12031950334920574\n",
      "  Wartość p: 0.7291946074154584\n",
      "\n"
     ]
    }
   ],
   "source": [
    "# Test F na istotność poszczególnych predyktorów\n",
    "f_statistic, p_value = f_regression(X_test, y_test)\n",
    "for i, col in enumerate(X.columns):\n",
    "    print(f\"{col}:\")\n",
    "    print(f\"  Statystyka F: {f_statistic[i]}\")\n",
    "    print(f\"  Wartość p: {p_value[i]}\\n\")"
   ]
  },
  {
   "cell_type": "code",
   "execution_count": 7,
   "id": "9b567e80",
   "metadata": {},
   "outputs": [
    {
     "name": "stdout",
     "output_type": "stream",
     "text": [
      "Średni błąd kwadratowy (MSE) dla istotnych predyktorów: 346449767.4297066\n",
      "R^2 (współczynnik determinacji) dla istotnych predyktorów: 0.15848823349557628\n"
     ]
    }
   ],
   "source": [
    "# Analiza jakości modelu na istotnych predyktorach\n",
    "X_train_significant = X_train[:, p_value < 0.05]\n",
    "X_test_significant = X_test[:, p_value < 0.05]\n",
    "model.fit(X_train_significant, y_train)\n",
    "y_pred_significant = model.predict(X_test_significant)\n",
    "\n",
    "mse_significant = mean_squared_error(y_test, y_pred_significant)\n",
    "r2_significant = r2_score(y_test, y_pred_significant)\n",
    "print(f'Średni błąd kwadratowy (MSE) dla istotnych predyktorów: {mse_significant}')\n",
    "print(f'R^2 (współczynnik determinacji) dla istotnych predyktorów: {r2_significant}')"
   ]
  },
  {
   "cell_type": "code",
   "execution_count": 8,
   "id": "df3c63f0",
   "metadata": {},
   "outputs": [
    {
     "data": {
      "image/png": "[encoded data removed]",
      "text/plain": [
       "<Figure size 640x480 with 1 Axes>"
      ]
     },
     "metadata": {},
     "output_type": "display_data"
    }
   ],
   "source": [
    "# Wykres z linią regresji dla zmiennej zależnej i jedynego istotnego predyktora (1-D)\n",
    "plt.scatter(X_test_significant, y_test, color='blue', label='Dane rzeczywiste')\n",
    "plt.plot(X_test_significant, y_pred_significant, color='red', linewidth=3, label='Regresja liniowa')\n",
    "plt.xlabel('Family Income (SD)')\n",
    "plt.ylabel('Income')\n",
    "plt.legend()\n",
    "plt.show()"
   ]
  },
  {
   "cell_type": "code",
   "execution_count": 9,
   "id": "0b534f8d",
   "metadata": {},
   "outputs": [
    {
     "data": {
      "text/plain": [
       "71086.52884615384"
      ]
     },
     "execution_count": 9,
     "metadata": {},
     "output_type": "execute_result"
    }
   ],
   "source": [
    "data['Family income'].mean()"
   ]
  },
  {
   "cell_type": "code",
   "execution_count": 10,
   "id": "b423351d",
   "metadata": {},
   "outputs": [
    {
     "data": {
      "text/plain": [
       "59108.85821035426"
      ]
     },
     "execution_count": 10,
     "metadata": {},
     "output_type": "execute_result"
    }
   ],
   "source": [
    "data['Family income'].std()"
   ]
  }
 ],
 "metadata": {
  "kernelspec": {
   "display_name": "Python 3 (ipykernel)",
   "language": "python",
   "name": "python3"
  },
  "language_info": {
   "codemirror_mode": {
    "name": "ipython",
    "version": 3
   },
   "file_extension": ".py",
   "mimetype": "text/x-python",
   "name": "python",
   "nbconvert_exporter": "python",
   "pygments_lexer": "ipython3",
   "version": "3.11.5"
  }
 },
 "nbformat": 4,
 "nbformat_minor": 5
}
